{
 "cells": [
  {
   "cell_type": "code",
   "execution_count": null,
   "source": [
    "import matplotlib.pyplot as plt\n",
    "import numpy as np\n",
    "from sklearn import datasets, linear_model, model_selection\n",
    "import pandas as pd\n",
    "import matplotlib.pyplot as plt\n",
    "pumpkins = pd.read_csv('./data/US-pumpkins.csv')\n",
    "pumpkins.head()\n",
    "\n",
    "pumpkins.isnull().sum()"
   ],
   "outputs": [],
   "metadata": {}
  },
  {
   "cell_type": "code",
   "execution_count": null,
   "source": [
    "from sklearn.preprocessing import LabelEncoder\n",
    "\n",
    "new_columns = ['Color','Origin','Item Size','Variety','City Name','Package']\n",
    "\n",
    "new_pumpkins = pumpkins.drop([c for c in pumpkins.columns if c not in new_columns], axis=1)\n",
    "\n",
    "new_pumpkins.dropna(inplace=True)\n",
    "\n",
    "new_pumpkins = new_pumpkins.apply(LabelEncoder().fit_transform)\n",
    "\n",
    "print(new_pumpkins)\n"
   ],
   "outputs": [],
   "metadata": {}
  },
  {
   "cell_type": "code",
   "execution_count": null,
   "source": [
    "import seaborn as sns\n",
    "\n",
    "g = sns.PairGrid(new_pumpkins)\n",
    "g.map(sns.scatterplot)\n",
    "\n"
   ],
   "outputs": [],
   "metadata": {}
  },
  {
   "cell_type": "code",
   "execution_count": null,
   "source": [
    "sns.swarmplot(x=\"Color\", y=\"Item Size\", data=new_pumpkins)\n"
   ],
   "outputs": [],
   "metadata": {}
  }
 ],
 "metadata": {
  "orig_nbformat": 4,
  "language_info": {
   "name": "python"
  }
 },
 "nbformat": 4,
 "nbformat_minor": 2
}